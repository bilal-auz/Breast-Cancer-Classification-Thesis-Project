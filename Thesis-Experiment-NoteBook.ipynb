{
 "cells": [
  {
   "cell_type": "code",
   "execution_count": 1,
   "id": "ccfe6132-6612-4974-ae28-8be183c37eb2",
   "metadata": {},
   "outputs": [],
   "source": [
    "import pandas as pd\n",
    "import matplotlib.pyplot as plt\n",
    "import seaborn as sns\n",
    "from sklearn.preprocessing import LabelEncoder"
   ]
  },
  {
   "cell_type": "code",
   "execution_count": 2,
   "id": "27aa2d53-c7ee-4da9-86ba-95b4cfa092aa",
   "metadata": {},
   "outputs": [],
   "source": [
    "wdbc_df = pd.read_csv(\"./data.csv\")"
   ]
  },
  {
   "cell_type": "code",
   "execution_count": 3,
   "id": "f7908c1a-a951-4c7d-afaa-6780f4662cba",
   "metadata": {},
   "outputs": [
    {
     "data": {
      "text/html": [
       "<div>\n",
       "<style scoped>\n",
       "    .dataframe tbody tr th:only-of-type {\n",
       "        vertical-align: middle;\n",
       "    }\n",
       "\n",
       "    .dataframe tbody tr th {\n",
       "        vertical-align: top;\n",
       "    }\n",
       "\n",
       "    .dataframe thead th {\n",
       "        text-align: right;\n",
       "    }\n",
       "</style>\n",
       "<table border=\"1\" class=\"dataframe\">\n",
       "  <thead>\n",
       "    <tr style=\"text-align: right;\">\n",
       "      <th></th>\n",
       "      <th>id</th>\n",
       "      <th>diagnosis</th>\n",
       "      <th>radius_mean</th>\n",
       "      <th>texture_mean</th>\n",
       "      <th>perimeter_mean</th>\n",
       "      <th>area_mean</th>\n",
       "      <th>smoothness_mean</th>\n",
       "      <th>compactness_mean</th>\n",
       "      <th>concavity_mean</th>\n",
       "      <th>concave points_mean</th>\n",
       "      <th>...</th>\n",
       "      <th>texture_worst</th>\n",
       "      <th>perimeter_worst</th>\n",
       "      <th>area_worst</th>\n",
       "      <th>smoothness_worst</th>\n",
       "      <th>compactness_worst</th>\n",
       "      <th>concavity_worst</th>\n",
       "      <th>concave points_worst</th>\n",
       "      <th>symmetry_worst</th>\n",
       "      <th>fractal_dimension_worst</th>\n",
       "      <th>Unnamed: 32</th>\n",
       "    </tr>\n",
       "  </thead>\n",
       "  <tbody>\n",
       "    <tr>\n",
       "      <th>536</th>\n",
       "      <td>91979701</td>\n",
       "      <td>M</td>\n",
       "      <td>14.27</td>\n",
       "      <td>22.55</td>\n",
       "      <td>93.77</td>\n",
       "      <td>629.8</td>\n",
       "      <td>0.10380</td>\n",
       "      <td>0.11540</td>\n",
       "      <td>0.14630</td>\n",
       "      <td>0.06139</td>\n",
       "      <td>...</td>\n",
       "      <td>34.27</td>\n",
       "      <td>104.30</td>\n",
       "      <td>728.3</td>\n",
       "      <td>0.1380</td>\n",
       "      <td>0.2733</td>\n",
       "      <td>0.4234</td>\n",
       "      <td>0.13620</td>\n",
       "      <td>0.2698</td>\n",
       "      <td>0.08351</td>\n",
       "      <td>NaN</td>\n",
       "    </tr>\n",
       "    <tr>\n",
       "      <th>321</th>\n",
       "      <td>894618</td>\n",
       "      <td>M</td>\n",
       "      <td>20.16</td>\n",
       "      <td>19.66</td>\n",
       "      <td>131.10</td>\n",
       "      <td>1274.0</td>\n",
       "      <td>0.08020</td>\n",
       "      <td>0.08564</td>\n",
       "      <td>0.11550</td>\n",
       "      <td>0.07726</td>\n",
       "      <td>...</td>\n",
       "      <td>23.03</td>\n",
       "      <td>150.20</td>\n",
       "      <td>1657.0</td>\n",
       "      <td>0.1054</td>\n",
       "      <td>0.1537</td>\n",
       "      <td>0.2606</td>\n",
       "      <td>0.14250</td>\n",
       "      <td>0.3055</td>\n",
       "      <td>0.05933</td>\n",
       "      <td>NaN</td>\n",
       "    </tr>\n",
       "    <tr>\n",
       "      <th>331</th>\n",
       "      <td>896864</td>\n",
       "      <td>B</td>\n",
       "      <td>12.98</td>\n",
       "      <td>19.35</td>\n",
       "      <td>84.52</td>\n",
       "      <td>514.0</td>\n",
       "      <td>0.09579</td>\n",
       "      <td>0.11250</td>\n",
       "      <td>0.07107</td>\n",
       "      <td>0.02950</td>\n",
       "      <td>...</td>\n",
       "      <td>21.95</td>\n",
       "      <td>99.21</td>\n",
       "      <td>634.3</td>\n",
       "      <td>0.1288</td>\n",
       "      <td>0.3253</td>\n",
       "      <td>0.3439</td>\n",
       "      <td>0.09858</td>\n",
       "      <td>0.3596</td>\n",
       "      <td>0.09166</td>\n",
       "      <td>NaN</td>\n",
       "    </tr>\n",
       "    <tr>\n",
       "      <th>490</th>\n",
       "      <td>91376701</td>\n",
       "      <td>B</td>\n",
       "      <td>12.25</td>\n",
       "      <td>22.44</td>\n",
       "      <td>78.18</td>\n",
       "      <td>466.5</td>\n",
       "      <td>0.08192</td>\n",
       "      <td>0.05200</td>\n",
       "      <td>0.01714</td>\n",
       "      <td>0.01261</td>\n",
       "      <td>...</td>\n",
       "      <td>31.99</td>\n",
       "      <td>92.74</td>\n",
       "      <td>622.9</td>\n",
       "      <td>0.1256</td>\n",
       "      <td>0.1804</td>\n",
       "      <td>0.1230</td>\n",
       "      <td>0.06335</td>\n",
       "      <td>0.3100</td>\n",
       "      <td>0.08203</td>\n",
       "      <td>NaN</td>\n",
       "    </tr>\n",
       "    <tr>\n",
       "      <th>269</th>\n",
       "      <td>8910720</td>\n",
       "      <td>B</td>\n",
       "      <td>10.71</td>\n",
       "      <td>20.39</td>\n",
       "      <td>69.50</td>\n",
       "      <td>344.9</td>\n",
       "      <td>0.10820</td>\n",
       "      <td>0.12890</td>\n",
       "      <td>0.08448</td>\n",
       "      <td>0.02867</td>\n",
       "      <td>...</td>\n",
       "      <td>25.21</td>\n",
       "      <td>76.51</td>\n",
       "      <td>410.4</td>\n",
       "      <td>0.1335</td>\n",
       "      <td>0.2550</td>\n",
       "      <td>0.2534</td>\n",
       "      <td>0.08600</td>\n",
       "      <td>0.2605</td>\n",
       "      <td>0.08701</td>\n",
       "      <td>NaN</td>\n",
       "    </tr>\n",
       "  </tbody>\n",
       "</table>\n",
       "<p>5 rows × 33 columns</p>\n",
       "</div>"
      ],
      "text/plain": [
       "           id diagnosis  radius_mean  texture_mean  perimeter_mean  area_mean  \\\n",
       "536  91979701         M        14.27         22.55           93.77      629.8   \n",
       "321    894618         M        20.16         19.66          131.10     1274.0   \n",
       "331    896864         B        12.98         19.35           84.52      514.0   \n",
       "490  91376701         B        12.25         22.44           78.18      466.5   \n",
       "269   8910720         B        10.71         20.39           69.50      344.9   \n",
       "\n",
       "     smoothness_mean  compactness_mean  concavity_mean  concave points_mean  \\\n",
       "536          0.10380           0.11540         0.14630              0.06139   \n",
       "321          0.08020           0.08564         0.11550              0.07726   \n",
       "331          0.09579           0.11250         0.07107              0.02950   \n",
       "490          0.08192           0.05200         0.01714              0.01261   \n",
       "269          0.10820           0.12890         0.08448              0.02867   \n",
       "\n",
       "     ...  texture_worst  perimeter_worst  area_worst  smoothness_worst  \\\n",
       "536  ...          34.27           104.30       728.3            0.1380   \n",
       "321  ...          23.03           150.20      1657.0            0.1054   \n",
       "331  ...          21.95            99.21       634.3            0.1288   \n",
       "490  ...          31.99            92.74       622.9            0.1256   \n",
       "269  ...          25.21            76.51       410.4            0.1335   \n",
       "\n",
       "     compactness_worst  concavity_worst  concave points_worst  symmetry_worst  \\\n",
       "536             0.2733           0.4234               0.13620          0.2698   \n",
       "321             0.1537           0.2606               0.14250          0.3055   \n",
       "331             0.3253           0.3439               0.09858          0.3596   \n",
       "490             0.1804           0.1230               0.06335          0.3100   \n",
       "269             0.2550           0.2534               0.08600          0.2605   \n",
       "\n",
       "     fractal_dimension_worst  Unnamed: 32  \n",
       "536                  0.08351          NaN  \n",
       "321                  0.05933          NaN  \n",
       "331                  0.09166          NaN  \n",
       "490                  0.08203          NaN  \n",
       "269                  0.08701          NaN  \n",
       "\n",
       "[5 rows x 33 columns]"
      ]
     },
     "execution_count": 3,
     "metadata": {},
     "output_type": "execute_result"
    }
   ],
   "source": [
    "wdbc_df.sample(5)"
   ]
  },
  {
   "cell_type": "code",
   "execution_count": 4,
   "id": "9b6de774-f90e-411f-9fcf-472679f38273",
   "metadata": {},
   "outputs": [
    {
     "name": "stdout",
     "output_type": "stream",
     "text": [
      "WDBC shape:-\n",
      "Rows: 569\n",
      "Columns: 33\n"
     ]
    }
   ],
   "source": [
    "print(\"WDBC shape:-\\nRows: \"+str(wdbc_df.shape[0])+\"\\nColumns: \"+str(wdbc_df.shape[1]))"
   ]
  },
  {
   "cell_type": "code",
   "execution_count": 5,
   "id": "09f10638-c20e-49fc-bc41-5dde6a1f942d",
   "metadata": {},
   "outputs": [
    {
     "name": "stdout",
     "output_type": "stream",
     "text": [
      "<class 'pandas.core.frame.DataFrame'>\n",
      "RangeIndex: 569 entries, 0 to 568\n",
      "Data columns (total 33 columns):\n",
      " #   Column                   Non-Null Count  Dtype  \n",
      "---  ------                   --------------  -----  \n",
      " 0   id                       569 non-null    int64  \n",
      " 1   diagnosis                569 non-null    object \n",
      " 2   radius_mean              569 non-null    float64\n",
      " 3   texture_mean             569 non-null    float64\n",
      " 4   perimeter_mean           569 non-null    float64\n",
      " 5   area_mean                569 non-null    float64\n",
      " 6   smoothness_mean          569 non-null    float64\n",
      " 7   compactness_mean         569 non-null    float64\n",
      " 8   concavity_mean           569 non-null    float64\n",
      " 9   concave points_mean      569 non-null    float64\n",
      " 10  symmetry_mean            569 non-null    float64\n",
      " 11  fractal_dimension_mean   569 non-null    float64\n",
      " 12  radius_se                569 non-null    float64\n",
      " 13  texture_se               569 non-null    float64\n",
      " 14  perimeter_se             569 non-null    float64\n",
      " 15  area_se                  569 non-null    float64\n",
      " 16  smoothness_se            569 non-null    float64\n",
      " 17  compactness_se           569 non-null    float64\n",
      " 18  concavity_se             569 non-null    float64\n",
      " 19  concave points_se        569 non-null    float64\n",
      " 20  symmetry_se              569 non-null    float64\n",
      " 21  fractal_dimension_se     569 non-null    float64\n",
      " 22  radius_worst             569 non-null    float64\n",
      " 23  texture_worst            569 non-null    float64\n",
      " 24  perimeter_worst          569 non-null    float64\n",
      " 25  area_worst               569 non-null    float64\n",
      " 26  smoothness_worst         569 non-null    float64\n",
      " 27  compactness_worst        569 non-null    float64\n",
      " 28  concavity_worst          569 non-null    float64\n",
      " 29  concave points_worst     569 non-null    float64\n",
      " 30  symmetry_worst           569 non-null    float64\n",
      " 31  fractal_dimension_worst  569 non-null    float64\n",
      " 32  Unnamed: 32              0 non-null      float64\n",
      "dtypes: float64(31), int64(1), object(1)\n",
      "memory usage: 146.8+ KB\n"
     ]
    }
   ],
   "source": [
    "wdbc_df.info()"
   ]
  },
  {
   "cell_type": "code",
   "execution_count": 6,
   "id": "1c8ba238-bb59-4348-a1b3-226a3410a871",
   "metadata": {},
   "outputs": [
    {
     "data": {
      "text/plain": [
       "257   NaN\n",
       "14    NaN\n",
       "309   NaN\n",
       "407   NaN\n",
       "251   NaN\n",
       "Name: Unnamed: 32, dtype: float64"
      ]
     },
     "execution_count": 6,
     "metadata": {},
     "output_type": "execute_result"
    }
   ],
   "source": [
    "wdbc_df['Unnamed: 32'].sample(5)"
   ]
  },
  {
   "cell_type": "code",
   "execution_count": 7,
   "id": "0092507b-2803-4f07-9229-5fc8528cb2d3",
   "metadata": {},
   "outputs": [
    {
     "data": {
      "text/plain": [
       "array([nan])"
      ]
     },
     "execution_count": 7,
     "metadata": {},
     "output_type": "execute_result"
    }
   ],
   "source": [
    "wdbc_df['Unnamed: 32'].unique()"
   ]
  },
  {
   "cell_type": "code",
   "execution_count": 8,
   "id": "25ec111d-3597-45bc-8caa-3a52143cc760",
   "metadata": {},
   "outputs": [
    {
     "data": {
      "text/plain": [
       "array([ True])"
      ]
     },
     "execution_count": 8,
     "metadata": {},
     "output_type": "execute_result"
    }
   ],
   "source": [
    "wdbc_df['Unnamed: 32'].isnull().unique()"
   ]
  },
  {
   "cell_type": "code",
   "execution_count": 9,
   "id": "21fc864d-3616-4319-9bca-098d1c81689e",
   "metadata": {},
   "outputs": [],
   "source": [
    "wdbc_df.drop(columns=[\"Unnamed: 32\", \"id\"], axis=1, inplace=True)"
   ]
  },
  {
   "cell_type": "code",
   "execution_count": 10,
   "id": "e26e5b9b-7242-4f44-9bc4-3c1a06e8828a",
   "metadata": {},
   "outputs": [
    {
     "data": {
      "text/html": [
       "<div>\n",
       "<style scoped>\n",
       "    .dataframe tbody tr th:only-of-type {\n",
       "        vertical-align: middle;\n",
       "    }\n",
       "\n",
       "    .dataframe tbody tr th {\n",
       "        vertical-align: top;\n",
       "    }\n",
       "\n",
       "    .dataframe thead th {\n",
       "        text-align: right;\n",
       "    }\n",
       "</style>\n",
       "<table border=\"1\" class=\"dataframe\">\n",
       "  <thead>\n",
       "    <tr style=\"text-align: right;\">\n",
       "      <th></th>\n",
       "      <th>diagnosis</th>\n",
       "      <th>radius_mean</th>\n",
       "      <th>texture_mean</th>\n",
       "      <th>perimeter_mean</th>\n",
       "      <th>area_mean</th>\n",
       "      <th>smoothness_mean</th>\n",
       "      <th>compactness_mean</th>\n",
       "      <th>concavity_mean</th>\n",
       "      <th>concave points_mean</th>\n",
       "      <th>symmetry_mean</th>\n",
       "      <th>...</th>\n",
       "      <th>radius_worst</th>\n",
       "      <th>texture_worst</th>\n",
       "      <th>perimeter_worst</th>\n",
       "      <th>area_worst</th>\n",
       "      <th>smoothness_worst</th>\n",
       "      <th>compactness_worst</th>\n",
       "      <th>concavity_worst</th>\n",
       "      <th>concave points_worst</th>\n",
       "      <th>symmetry_worst</th>\n",
       "      <th>fractal_dimension_worst</th>\n",
       "    </tr>\n",
       "  </thead>\n",
       "  <tbody>\n",
       "    <tr>\n",
       "      <th>120</th>\n",
       "      <td>B</td>\n",
       "      <td>11.41</td>\n",
       "      <td>10.82</td>\n",
       "      <td>73.34</td>\n",
       "      <td>403.3</td>\n",
       "      <td>0.09373</td>\n",
       "      <td>0.06685</td>\n",
       "      <td>0.03512</td>\n",
       "      <td>0.02623</td>\n",
       "      <td>0.1667</td>\n",
       "      <td>...</td>\n",
       "      <td>12.82</td>\n",
       "      <td>15.97</td>\n",
       "      <td>83.74</td>\n",
       "      <td>510.5</td>\n",
       "      <td>0.15480</td>\n",
       "      <td>0.2390</td>\n",
       "      <td>0.2102</td>\n",
       "      <td>0.08958</td>\n",
       "      <td>0.3016</td>\n",
       "      <td>0.08523</td>\n",
       "    </tr>\n",
       "    <tr>\n",
       "      <th>376</th>\n",
       "      <td>B</td>\n",
       "      <td>10.57</td>\n",
       "      <td>20.22</td>\n",
       "      <td>70.15</td>\n",
       "      <td>338.3</td>\n",
       "      <td>0.09073</td>\n",
       "      <td>0.16600</td>\n",
       "      <td>0.22800</td>\n",
       "      <td>0.05941</td>\n",
       "      <td>0.2188</td>\n",
       "      <td>...</td>\n",
       "      <td>10.85</td>\n",
       "      <td>22.82</td>\n",
       "      <td>76.51</td>\n",
       "      <td>351.9</td>\n",
       "      <td>0.11430</td>\n",
       "      <td>0.3619</td>\n",
       "      <td>0.6030</td>\n",
       "      <td>0.14650</td>\n",
       "      <td>0.2597</td>\n",
       "      <td>0.12000</td>\n",
       "    </tr>\n",
       "    <tr>\n",
       "      <th>371</th>\n",
       "      <td>B</td>\n",
       "      <td>15.19</td>\n",
       "      <td>13.21</td>\n",
       "      <td>97.65</td>\n",
       "      <td>711.8</td>\n",
       "      <td>0.07963</td>\n",
       "      <td>0.06934</td>\n",
       "      <td>0.03393</td>\n",
       "      <td>0.02657</td>\n",
       "      <td>0.1721</td>\n",
       "      <td>...</td>\n",
       "      <td>16.20</td>\n",
       "      <td>15.73</td>\n",
       "      <td>104.50</td>\n",
       "      <td>819.1</td>\n",
       "      <td>0.11260</td>\n",
       "      <td>0.1737</td>\n",
       "      <td>0.1362</td>\n",
       "      <td>0.08178</td>\n",
       "      <td>0.2487</td>\n",
       "      <td>0.06766</td>\n",
       "    </tr>\n",
       "    <tr>\n",
       "      <th>402</th>\n",
       "      <td>B</td>\n",
       "      <td>12.96</td>\n",
       "      <td>18.29</td>\n",
       "      <td>84.18</td>\n",
       "      <td>525.2</td>\n",
       "      <td>0.07351</td>\n",
       "      <td>0.07899</td>\n",
       "      <td>0.04057</td>\n",
       "      <td>0.01883</td>\n",
       "      <td>0.1874</td>\n",
       "      <td>...</td>\n",
       "      <td>14.13</td>\n",
       "      <td>24.61</td>\n",
       "      <td>96.31</td>\n",
       "      <td>621.9</td>\n",
       "      <td>0.09329</td>\n",
       "      <td>0.2318</td>\n",
       "      <td>0.1604</td>\n",
       "      <td>0.06608</td>\n",
       "      <td>0.3207</td>\n",
       "      <td>0.07247</td>\n",
       "    </tr>\n",
       "    <tr>\n",
       "      <th>421</th>\n",
       "      <td>B</td>\n",
       "      <td>14.69</td>\n",
       "      <td>13.98</td>\n",
       "      <td>98.22</td>\n",
       "      <td>656.1</td>\n",
       "      <td>0.10310</td>\n",
       "      <td>0.18360</td>\n",
       "      <td>0.14500</td>\n",
       "      <td>0.06300</td>\n",
       "      <td>0.2086</td>\n",
       "      <td>...</td>\n",
       "      <td>16.46</td>\n",
       "      <td>18.34</td>\n",
       "      <td>114.10</td>\n",
       "      <td>809.2</td>\n",
       "      <td>0.13120</td>\n",
       "      <td>0.3635</td>\n",
       "      <td>0.3219</td>\n",
       "      <td>0.11080</td>\n",
       "      <td>0.2827</td>\n",
       "      <td>0.09208</td>\n",
       "    </tr>\n",
       "  </tbody>\n",
       "</table>\n",
       "<p>5 rows × 31 columns</p>\n",
       "</div>"
      ],
      "text/plain": [
       "    diagnosis  radius_mean  texture_mean  perimeter_mean  area_mean  \\\n",
       "120         B        11.41         10.82           73.34      403.3   \n",
       "376         B        10.57         20.22           70.15      338.3   \n",
       "371         B        15.19         13.21           97.65      711.8   \n",
       "402         B        12.96         18.29           84.18      525.2   \n",
       "421         B        14.69         13.98           98.22      656.1   \n",
       "\n",
       "     smoothness_mean  compactness_mean  concavity_mean  concave points_mean  \\\n",
       "120          0.09373           0.06685         0.03512              0.02623   \n",
       "376          0.09073           0.16600         0.22800              0.05941   \n",
       "371          0.07963           0.06934         0.03393              0.02657   \n",
       "402          0.07351           0.07899         0.04057              0.01883   \n",
       "421          0.10310           0.18360         0.14500              0.06300   \n",
       "\n",
       "     symmetry_mean  ...  radius_worst  texture_worst  perimeter_worst  \\\n",
       "120         0.1667  ...         12.82          15.97            83.74   \n",
       "376         0.2188  ...         10.85          22.82            76.51   \n",
       "371         0.1721  ...         16.20          15.73           104.50   \n",
       "402         0.1874  ...         14.13          24.61            96.31   \n",
       "421         0.2086  ...         16.46          18.34           114.10   \n",
       "\n",
       "     area_worst  smoothness_worst  compactness_worst  concavity_worst  \\\n",
       "120       510.5           0.15480             0.2390           0.2102   \n",
       "376       351.9           0.11430             0.3619           0.6030   \n",
       "371       819.1           0.11260             0.1737           0.1362   \n",
       "402       621.9           0.09329             0.2318           0.1604   \n",
       "421       809.2           0.13120             0.3635           0.3219   \n",
       "\n",
       "     concave points_worst  symmetry_worst  fractal_dimension_worst  \n",
       "120               0.08958          0.3016                  0.08523  \n",
       "376               0.14650          0.2597                  0.12000  \n",
       "371               0.08178          0.2487                  0.06766  \n",
       "402               0.06608          0.3207                  0.07247  \n",
       "421               0.11080          0.2827                  0.09208  \n",
       "\n",
       "[5 rows x 31 columns]"
      ]
     },
     "execution_count": 10,
     "metadata": {},
     "output_type": "execute_result"
    }
   ],
   "source": [
    "wdbc_df.sample(5)"
   ]
  },
  {
   "cell_type": "code",
   "execution_count": 11,
   "id": "94f4d0f0-6f82-46e0-b9b2-46967aa53941",
   "metadata": {},
   "outputs": [
    {
     "name": "stdout",
     "output_type": "stream",
     "text": [
      "Column \t\t     Missing Values\n",
      "-------------------------------------\n"
     ]
    },
    {
     "data": {
      "text/plain": [
       "diagnosis                  0\n",
       "radius_mean                0\n",
       "texture_mean               0\n",
       "perimeter_mean             0\n",
       "area_mean                  0\n",
       "smoothness_mean            0\n",
       "compactness_mean           0\n",
       "concavity_mean             0\n",
       "concave points_mean        0\n",
       "symmetry_mean              0\n",
       "fractal_dimension_mean     0\n",
       "radius_se                  0\n",
       "texture_se                 0\n",
       "perimeter_se               0\n",
       "area_se                    0\n",
       "smoothness_se              0\n",
       "compactness_se             0\n",
       "concavity_se               0\n",
       "concave points_se          0\n",
       "symmetry_se                0\n",
       "fractal_dimension_se       0\n",
       "radius_worst               0\n",
       "texture_worst              0\n",
       "perimeter_worst            0\n",
       "area_worst                 0\n",
       "smoothness_worst           0\n",
       "compactness_worst          0\n",
       "concavity_worst            0\n",
       "concave points_worst       0\n",
       "symmetry_worst             0\n",
       "fractal_dimension_worst    0\n",
       "dtype: int64"
      ]
     },
     "execution_count": 11,
     "metadata": {},
     "output_type": "execute_result"
    }
   ],
   "source": [
    "print(\"Column \\t\\t     Missing Values\\n-------------------------------------\")\n",
    "wdbc_df.isnull().sum()"
   ]
  },
  {
   "cell_type": "code",
   "execution_count": 12,
   "id": "1d55543d-06b4-42d0-8767-f5dc7d0452d3",
   "metadata": {},
   "outputs": [
    {
     "name": "stdout",
     "output_type": "stream",
     "text": [
      "Before Encoding:\n",
      "B    357\n",
      "M    212\n",
      "Name: diagnosis, dtype: int64\n",
      "\n",
      "After Encoding:\n",
      "0    357\n",
      "1    212\n",
      "Name: diagnosis, dtype: int64\n"
     ]
    }
   ],
   "source": [
    "from sklearn.preprocessing import LabelEncoder\n",
    "label_encoder = LabelEncoder()\n",
    "\n",
    "labels = label_encoder.fit_transform(wdbc_df['diagnosis'])\n",
    "\n",
    "print(\"Before Encoding:\")\n",
    "print(wdbc_df['diagnosis'].value_counts())\n",
    "\n",
    "wdbc_df['diagnosis'] = labels\n",
    "\n",
    "print(\"\\nAfter Encoding:\")\n",
    "print(wdbc_df['diagnosis'].value_counts())"
   ]
  },
  {
   "cell_type": "code",
   "execution_count": 13,
   "id": "5ad38457-444c-4c91-a65f-5a9b3e1b0394",
   "metadata": {},
   "outputs": [
    {
     "data": {
      "text/plain": [
       "<matplotlib.legend.Legend at 0x267afd3b610>"
      ]
     },
     "execution_count": 13,
     "metadata": {},
     "output_type": "execute_result"
    },
    {
     "data": {
      "image/png": "[encoded data removed]",
      "text/plain": [
       "<Figure size 432x288 with 1 Axes>"
      ]
     },
     "metadata": {
      "needs_background": "light"
     },
     "output_type": "display_data"
    }
   ],
   "source": [
    "sns.countplot(x='diagnosis', data=wdbc_df, palette=['#00aeff', '#fc6ad3'], hue='diagnosis', dodge=False)\n",
    "plt.legend(['Benign', 'Malignant'])"
   ]
  },
  {
   "cell_type": "code",
   "execution_count": 14,
   "id": "c1b05357-5109-47b6-a5ee-e1ca3a63967c",
   "metadata": {},
   "outputs": [
    {
     "data": {
      "text/plain": [
       "<matplotlib.legend.Legend at 0x267b05197c0>"
      ]
     },
     "execution_count": 14,
     "metadata": {},
     "output_type": "execute_result"
    },
    {
     "data": {
      "image/png": "[encoded data removed]",
      "text/plain": [
       "<Figure size 432x288 with 1 Axes>"
      ]
     },
     "metadata": {},
     "output_type": "display_data"
    }
   ],
   "source": [
    "wdbc_df.groupby('diagnosis').size().plot(kind='pie', autopct='%.0f%%', colors=['#00aeff', '#fc6ad3'])\n",
    "plt.legend(['Benign', 'Malignant'])"
   ]
  },
  {
   "cell_type": "code",
   "execution_count": 15,
   "id": "529269e6-845d-457f-82ed-098bdfe5fb81",
   "metadata": {},
   "outputs": [
    {
     "data": {
      "image/png": "[encoded data removed]",
      "text/plain": [
       "<Figure size 576x1296 with 30 Axes>"
      ]
     },
     "metadata": {
      "needs_background": "light"
     },
     "output_type": "display_data"
    }
   ],
   "source": [
    "import numpy as np\n",
    "features_mean=list(wdbc_df.columns[1:])\n",
    "\n",
    "B_df = wdbc_df[wdbc_df['diagnosis'] == 0]\n",
    "M_df = wdbc_df[wdbc_df['diagnosis'] == 1]\n",
    "\n",
    "plt.rcParams.update({'font.size': 8})\n",
    "fig, axes = plt.subplots(nrows=15, ncols=2, figsize=(8,18))\n",
    "axes = axes.ravel()\n",
    "for idx,ax in enumerate(axes):\n",
    "    ax.figure\n",
    "    binwidth= (max(wdbc_df[features_mean[idx]]) - min(wdbc_df[features_mean[idx]]))/50\n",
    "    ax.hist([M_df[features_mean[idx]],B_df[features_mean[idx]]], \n",
    "            bins=np.arange(min(wdbc_df[features_mean[idx]]), max(wdbc_df[features_mean[idx]]) + binwidth, binwidth) ,\n",
    "            alpha=0.5,\n",
    "            stacked=True, \n",
    "            label=['M','B'],\n",
    "            color=['#fc6ad3','#00aeff'])\n",
    "    ax.legend(loc='upper right')\n",
    "    ax.set_title(features_mean[idx])\n",
    "plt.tight_layout()\n",
    "plt.show()"
   ]
  },
  {
   "cell_type": "code",
   "execution_count": 16,
   "id": "762321ff-4c95-4196-9d2e-e31a0270c9ac",
   "metadata": {},
   "outputs": [
    {
     "data": {
      "image/png": "[encoded data removed]",
      "text/plain": [
       "<Figure size 720x1080 with 10 Axes>"
      ]
     },
     "metadata": {
      "needs_background": "light"
     },
     "output_type": "display_data"
    }
   ],
   "source": [
    "import numpy as np\n",
    "features_mean=list(wdbc_df.columns[1:11])\n",
    "\n",
    "B_df = wdbc_df[wdbc_df['diagnosis'] == 0]\n",
    "M_df = wdbc_df[wdbc_df['diagnosis'] == 1]\n",
    "\n",
    "plt.rcParams.update({'font.size': 10})\n",
    "fig, axes = plt.subplots(nrows=5, ncols=2, figsize=(10,15))\n",
    "axes = axes.ravel()\n",
    "for idx,ax in enumerate(axes):\n",
    "    ax.figure\n",
    "    binwidth= (max(wdbc_df[features_mean[idx]]) - min(wdbc_df[features_mean[idx]]))/50\n",
    "    ax.hist([M_df[features_mean[idx]],B_df[features_mean[idx]]], \n",
    "            bins=np.arange(min(wdbc_df[features_mean[idx]]), max(wdbc_df[features_mean[idx]]) + binwidth, binwidth) ,\n",
    "            alpha=0.5,\n",
    "            stacked=True, \n",
    "            label=['M','B'],\n",
    "            color=['#fc6ad3','#00aeff'])\n",
    "    ax.legend(loc='upper right')\n",
    "    ax.set_title(features_mean[idx])\n",
    "plt.tight_layout()\n",
    "plt.show()"
   ]
  },
  {
   "cell_type": "code",
   "execution_count": 17,
   "id": "e7708e13-96b7-4c4f-8ccb-4bb2ce01a753",
   "metadata": {},
   "outputs": [
    {
     "name": "stdout",
     "output_type": "stream",
     "text": [
      "KNN Model Accuracy: 88.30%\n"
     ]
    }
   ],
   "source": [
    "from sklearn.neighbors import KNeighborsClassifier\n",
    "from sklearn.model_selection import train_test_split, cross_val_score\n",
    "from sklearn.metrics import accuracy_score\n",
    "\n",
    "features = [\"radius_mean\",\"perimeter_mean\",\"area_mean\",\"compactness_mean\",\"concavity_mean\", \"concave points_mean\"]\n",
    "\n",
    "train_data = wdbc_df[features]\n",
    "test_data = wdbc_df['diagnosis']\n",
    "\n",
    "x_train, x_test, y_train, y_test = train_test_split(train_data,\n",
    "                                 test_data,\n",
    "                                 random_state=np.random,\n",
    "                                train_size=0.7)\n",
    "\n",
    "KNN = KNeighborsClassifier(n_neighbors=5)\n",
    "\n",
    "\n",
    "\n",
    "y_pred = KNN.fit(x_train, y_train).predict(x_test)\n",
    "\n",
    "print(\"KNN Model Accuracy: %.2f%%\" %(accuracy_score(y_test, y_pred)*100))"
   ]
  },
  {
   "cell_type": "code",
   "execution_count": 821,
   "id": "ba88a353-0bf2-4a6d-9954-661d5582fc43",
   "metadata": {},
   "outputs": [
    {
     "name": "stdout",
     "output_type": "stream",
     "text": [
      "The Optimal Parameters using 5 fold cross_validtion:\n",
      "The Best Score: 89.69%\n",
      "The Best K number of neighbors: {'n_neighbors': 11}\n",
      "KNN Model Accuracy: 88.30%\n"
     ]
    }
   ],
   "source": [
    "from sklearn.model_selection import GridSearchCV\n",
    "\n",
    "knn = KNeighborsClassifier() #init the Knn\n",
    "\n",
    "k_range = list(range(1, 50)) #set the range of k values we want to test\n",
    "param_grid = dict(n_neighbors = k_range)#assign the params into dictionary\n",
    "\n",
    "# init the grid algorithm pass the KNN, params of to test, flods(group number)/selection_model, scoring metric\n",
    "grid = GridSearchCV(knn, param_grid, cv=5, scoring = 'accuracy') \n",
    "\n",
    "grid.fit(x_train,y_train)\n",
    "\n",
    "y_pred = grid.predict(x_test)\n",
    "print(\"The Optimal Parameters using 5 fold cross_validtion:\")\n",
    "print(\"The Best Score: %.2f%%\"%(grid.best_score_ * 100))\n",
    "print(\"The Best K number of neighbors:\", grid.best_params_)\n",
    "print(\"KNN Model Accuracy: %.2f%%\" %(accuracy_score(y_test, y_pred)*100))"
   ]
  },
  {
   "cell_type": "code",
   "execution_count": 108,
   "id": "2b96f336-e7cf-4190-8bee-1ceb4386b522",
   "metadata": {},
   "outputs": [
    {
     "data": {
      "image/png": "[encoded data removed]",
      "text/plain": [
       "<Figure size 432x288 with 1 Axes>"
      ]
     },
     "metadata": {
      "needs_background": "light"
     },
     "output_type": "display_data"
    }
   ],
   "source": [
    "plt.scatter(wdbc_df[\"radius_mean\"], wdbc_df[\"compactness_mean\"], c=wdbc_df[\"diagnosis\"], s=50, cmap='autumn');"
   ]
  },
  {
   "cell_type": "code",
   "execution_count": 186,
   "id": "b1a03b9e-f7cb-4462-a7ad-30472ef1f967",
   "metadata": {},
   "outputs": [],
   "source": [
    "def plot_svc_decision_function(model, ax=None, plot_support=True):\n",
    "    if ax is None:\n",
    "        ax = plt.gca()\n",
    "    xlim = ax.get_xlim()\n",
    "    ylim = ax.get_ylim()\n",
    "    \n",
    "    x = np.linspace(xlim[0], xlim[1], 30)\n",
    "    y = np.linspace(ylim[0], ylim[1], 30)\n",
    "    Y, X = np.meshgrid(y, x)\n",
    "    xy = np.vstack([X.ravel(), Y.ravel()]).T\n",
    "    P = model.decision_function(xy).reshape(X.shape)\n",
    "    \n",
    "    ax.contour(X, Y, P, colors='k', levels=[-1, 0, 1], alpha=0.5, linestyles=['--', '-', '--'])\n",
    "    \n",
    "    if plot_support:\n",
    "        ax.scatter(model.support_vectors_[:, 0],\n",
    "                  model.support_vectors_[:, 1],\n",
    "                  s=300, linewidth=1, facecolors='none');\n",
    "        \n",
    "    ax.set_xlim(xlim)\n",
    "    ax.set_ylim(ylim)\n",
    "    \n",
    "def plot_3D(X1,X2, y, elev=30, azim=30):\n",
    "    r = np.exp(-(train_data ** 2).sum(1))\n",
    "    ax = plt.subplot(projection='3d')\n",
    "    ax.scatter3D(X1,X2, r , c=y, s=50, cmap='autumn')\n",
    "    ax.view_init(elev=elev, azim=azim)\n",
    "    ax.set_xlabel('x')\n",
    "    ax.set_ylabel('y')\n",
    "    ax.set_zlabel('r')\n",
    "    \n"
   ]
  },
  {
   "cell_type": "code",
   "execution_count": 644,
   "id": "94ff6653-f609-4a02-8219-961a25f10766",
   "metadata": {},
   "outputs": [
    {
     "name": "stdout",
     "output_type": "stream",
     "text": [
      "SVM Model Prediction Accuracy: 81.58%\n"
     ]
    }
   ],
   "source": [
    "from sklearn.svm import SVC\n",
    "\n",
    "features = [\"radius_mean\",\"perimeter_mean\",\"area_mean\",\"compactness_mean\",\"concavity_mean\", \"concave points_mean\"]\n",
    "\n",
    "train_data = wdbc_df[features].values.tolist()\n",
    "test_data = wdbc_df['diagnosis'].values.tolist()\n",
    "\n",
    "x_train, x_test, y_train, y_test = train_test_split(train_data,\n",
    "                                 test_data,\n",
    "                                 random_state=np.random,\n",
    "                                train_size=0.8)\n",
    "\n",
    "SVM = SVC()\n",
    "\n",
    "SVM.fit(x_train,y_train)\n",
    "\n",
    "y_pred = SVM.predict(x_test)\n",
    "\n",
    "print(\"SVM Model Prediction Accuracy: %.2f%%\" %(accuracy_score(y_test, y_pred)*100))"
   ]
  },
  {
   "cell_type": "code",
   "execution_count": 822,
   "id": "24fcaa7d-19f0-4261-aad6-112c74f62edd",
   "metadata": {},
   "outputs": [
    {
     "name": "stdout",
     "output_type": "stream",
     "text": [
      "The Optimal Parameters using 5 fold cross_validtion:\n",
      "The Best Score: 91.96%\n",
      "The Best params of SVM: {'C': 11, 'kernel': 'linear'}\n",
      "SVM Model Prediction Accuracy: 88.89%\n"
     ]
    }
   ],
   "source": [
    "from sklearn.svm import SVC\n",
    "from sklearn.model_selection import GridSearchCV\n",
    "\n",
    "features = [\"radius_mean\",\"perimeter_mean\",\"area_mean\",\"compactness_mean\",\"concavity_mean\", \"concave points_mean\"]\n",
    "\n",
    "train_data = wdbc_df[features]\n",
    "test_data = wdbc_df['diagnosis']\n",
    "\n",
    "x_train, x_test, y_train, y_test = train_test_split(train_data,\n",
    "                                 test_data,\n",
    "                                 random_state=np.random,\n",
    "                                train_size=0.7)\n",
    "\n",
    "\n",
    "params = {'kernel':[\"linear\", \"poly\", \"rbf\", \"sigmoid\"],\n",
    "         \"C\": range(1,12)}\n",
    "\n",
    "SVM = SVC()\n",
    "\n",
    "grid = GridSearchCV(SVM, param_grid=params)\n",
    "\n",
    "grid.fit(x_train,y_train)\n",
    "\n",
    "y_pred = grid.predict(x_test)\n",
    "\n",
    "print(\"The Optimal Parameters using 5 fold cross_validtion:\")\n",
    "print(\"The Best Score: %.2f%%\"%(grid.best_score_ * 100))\n",
    "print(\"The Best params of SVM:\", grid.best_params_)\n",
    "print(\"SVM Model Prediction Accuracy: %.2f%%\" %(accuracy_score(y_test, y_pred)*100))"
   ]
  },
  {
   "cell_type": "code",
   "execution_count": 634,
   "id": "df5e5388-357e-4b56-9349-b41f1f33f596",
   "metadata": {},
   "outputs": [
    {
     "name": "stdout",
     "output_type": "stream",
     "text": [
      "DT Model Prediction Accuracy: 89.47%\n"
     ]
    }
   ],
   "source": [
    "from sklearn.tree import DecisionTreeClassifier\n",
    "\n",
    "features = [\"radius_mean\",\"perimeter_mean\",\"area_mean\",\"compactness_mean\",\"concavity_mean\", \"concave points_mean\"]\n",
    "\n",
    "train_data = wdbc_df[features]\n",
    "test_data = wdbc_df['diagnosis']\n",
    "\n",
    "x_train, x_test, y_train, y_test = train_test_split(train_data,\n",
    "                                 test_data,\n",
    "                                 random_state=np.random,\n",
    "                                train_size=0.8)\n",
    "\n",
    "DT = DecisionTreeClassifier()\n",
    "\n",
    "DT.fit(x_train,y_train)\n",
    "\n",
    "y_pred = DT.predict(x_test)\n",
    "\n",
    "print(\"DT Model Prediction Accuracy: %.2f%%\" %(accuracy_score(y_test, y_pred)*100))"
   ]
  },
  {
   "cell_type": "code",
   "execution_count": 826,
   "id": "6d1c271f-a141-4ed0-a0ae-deba81e31d46",
   "metadata": {},
   "outputs": [
    {
     "name": "stdout",
     "output_type": "stream",
     "text": [
      "The Optimal Parameters using 5 fold cross_validtion:\n",
      "The Best Score: 91.45%\n",
      "The Best params of DT : {'max_depth': 15, 'max_features': None}\n",
      "DT Model Prediction Accuracy: 92.40%\n"
     ]
    }
   ],
   "source": [
    "from sklearn.tree import DecisionTreeClassifier\n",
    "from sklearn.model_selection import GridSearchCV\n",
    "\n",
    "features = [\"radius_mean\",\"perimeter_mean\",\"area_mean\",\"compactness_mean\",\"concavity_mean\", \"concave points_mean\"]\n",
    "\n",
    "train_data = wdbc_df[features]\n",
    "test_data = wdbc_df['diagnosis']\n",
    "\n",
    "x_train, x_test, y_train, y_test = train_test_split(train_data,\n",
    "                                 test_data,\n",
    "                                 random_state=np.random,\n",
    "                                train_size=0.7)\n",
    "\n",
    "params = {'max_features': [None, 'auto', 'sqrt', 'log2'],\n",
    "          'max_depth': range(1, 50)}\n",
    "\n",
    "\n",
    "DT = DecisionTreeClassifier()\n",
    "\n",
    "grid = GridSearchCV(DT, param_grid=params)\n",
    "\n",
    "grid.fit(x_train,y_train)\n",
    "\n",
    "y_pred = grid.predict(x_test)\n",
    "\n",
    "print(\"The Optimal Parameters using 5 fold cross_validtion:\")\n",
    "print(\"The Best Score: %.2f%%\"%(grid.best_score_ * 100))\n",
    "print(\"The Best params of DT :\", grid.best_params_)\n",
    "print(\"DT Model Prediction Accuracy: %.2f%%\" %(accuracy_score(y_test, y_pred)*100))"
   ]
  },
  {
   "cell_type": "code",
   "execution_count": 659,
   "id": "8d38a475-b884-49e5-82df-5ac5361982cf",
   "metadata": {},
   "outputs": [
    {
     "name": "stdout",
     "output_type": "stream",
     "text": [
      "The RF Model Prediction Accuracy: 95.32%\n"
     ]
    }
   ],
   "source": [
    "from sklearn.ensemble import RandomForestClassifier\n",
    "\n",
    "all_features = wdbc_df.iloc[:,1:]\n",
    "\n",
    "train_data = wdbc_df[all_features.columns]\n",
    "test_data = wdbc_df['diagnosis']\n",
    "\n",
    "x_train, x_test, y_train, y_test = train_test_split(train_data,\n",
    "                                 test_data,\n",
    "                                 random_state=np.random,\n",
    "                                train_size=0.7)\n",
    "\n",
    "RF = RandomForestClassifier()\n",
    "\n",
    "RF.fit(x_train,y_train)\n",
    "\n",
    "y_pred = RF.predict(x_test)\n",
    "\n",
    "print(\"The RF Model Prediction Accuracy: %.2f%%\" %(accuracy_score(y_test, y_pred)*100))"
   ]
  },
  {
   "cell_type": "code",
   "execution_count": 837,
   "id": "998c858c-b717-4739-966e-9e098af0578d",
   "metadata": {},
   "outputs": [
    {
     "name": "stdout",
     "output_type": "stream",
     "text": [
      "The Optimal Parameters using 5 fold cross_validtion:\n",
      "The Best Score: 96.48%\n",
      "The Best params of DT : {'criterion': 'entropy', 'n_estimators': 31, 'random_state': 3}\n",
      "The RF Model Prediction Accuracy: 96.49%\n"
     ]
    }
   ],
   "source": [
    "from sklearn.ensemble import RandomForestClassifier\n",
    "from sklearn.model_selection import GridSearchCV\n",
    "\n",
    "all_features = wdbc_df.iloc[:,1:]\n",
    "\n",
    "train_data = wdbc_df[all_features.columns]\n",
    "test_data = wdbc_df['diagnosis']\n",
    "\n",
    "x_train, x_test, y_train, y_test = train_test_split(train_data,\n",
    "                                 test_data,\n",
    "                                 random_state=np.random,\n",
    "                                train_size=0.7)\n",
    "params = {'n_estimators': range(1,50,5),\n",
    "         'criterion': ['entropy', 'gini'],\n",
    "         \"random_state\": range(6)}\n",
    "\n",
    "RF = RandomForestClassifier()\n",
    "\n",
    "grid = GridSearchCV(RF, param_grid=params, cv=5)\n",
    "\n",
    "grid.fit(x_train,y_train)\n",
    "\n",
    "y_pred = grid.predict(x_test)\n",
    "\n",
    "print(\"The Optimal Parameters using 5 fold cross_validtion:\")\n",
    "print(\"The Best Score: %.2f%%\"%(grid.best_score_ * 100))\n",
    "print(\"The Best params of DT :\", grid.best_params_)\n",
    "print(\"The RF Model Prediction Accuracy: %.2f%%\" %(accuracy_score(y_test, y_pred)*100))"
   ]
  },
  {
   "cell_type": "code",
   "execution_count": 620,
   "id": "abe4483f-dc92-4d59-8b90-0334e346bbcc",
   "metadata": {},
   "outputs": [
    {
     "name": "stdout",
     "output_type": "stream",
     "text": [
      "The KNN Model Prediction Accuracy using Bagging: 93.57%\n",
      "The SVM Model Prediction Accuracy using Bagging: 90.64%\n",
      "The DT Model Prediction Accuracy using Bagging: 94.74%\n"
     ]
    }
   ],
   "source": [
    "from sklearn.neighbors import KNeighborsClassifier\n",
    "from sklearn.svm import SVC\n",
    "from sklearn.tree import DecisionTreeClassifier\n",
    "\n",
    "from sklearn.ensemble import BaggingClassifier\n",
    "\n",
    "all_features = wdbc_df.iloc[:,1:]\n",
    "\n",
    "train_data = wdbc_df[all_features.columns]\n",
    "test_data = wdbc_df['diagnosis']\n",
    "\n",
    "x_train, x_test, y_train, y_test = train_test_split(train_data,\n",
    "                                 test_data,\n",
    "                                 random_state=np.random,\n",
    "                                train_size=0.7)\n",
    "\n",
    "models = {'KNN':KNeighborsClassifier(), \"SVM\":SVC(),\"DT\":DecisionTreeClassifier()}\n",
    "\n",
    "for name, model in models.items():\n",
    "    baggingModel = BaggingClassifier(base_estimator=model, \n",
    "                            n_estimators=500,\n",
    "                            random_state=42)\n",
    "    baggingModel.fit(x_train,y_train)\n",
    "\n",
    "    y_pred = baggingModel.predict(x_test)\n",
    "\n",
    "    print(f\"The {name} Model Prediction Accuracy using Bagging: %.2f%%\" %(accuracy_score(y_test, y_pred)*100))"
   ]
  },
  {
   "cell_type": "code",
   "execution_count": 694,
   "id": "b18d7334-57bf-4cb4-b060-6b123a4d1852",
   "metadata": {},
   "outputs": [
    {
     "name": "stdout",
     "output_type": "stream",
     "text": [
      "The AdaBoost Model Prediction Accuracy: 64.33%\n"
     ]
    }
   ],
   "source": [
    "from sklearn.ensemble import AdaBoostClassifier\n",
    "\n",
    "features = [\"radius_mean\",\"perimeter_mean\",\"area_mean\",\"compactness_mean\",\"concavity_mean\", \"concave points_mean\"]\n",
    "\n",
    "train_data = wdbc_df[features]\n",
    "test_data = wdbc_df['diagnosis']\n",
    "\n",
    "x_train, x_test, y_train, y_test = train_test_split(train_data,\n",
    "                                 test_data,\n",
    "                                 random_state=np.random,\n",
    "                                train_size=0.7)\n",
    "\n",
    "adaboost = AdaBoostClassifier(base_estimator=SVC() ,n_estimators=500, random_state=41, algorithm='SAMME')\n",
    "\n",
    "adaboost.fit(x_train,y_train)\n",
    "\n",
    "y_pred = adaboost.predict(x_test)\n",
    "\n",
    "print(\"The AdaBoost Model Prediction Accuracy: %.2f%%\" %(accuracy_score(y_test, y_pred)*100))"
   ]
  },
  {
   "cell_type": "code",
   "execution_count": 706,
   "id": "413edc6c-9605-4d88-8bdb-63159bc0260d",
   "metadata": {},
   "outputs": [
    {
     "name": "stdout",
     "output_type": "stream",
     "text": [
      "AdaBoost with KNN: NOT SUPPORTED\n",
      "The Prediction Accuracy of AdaBoost with SVM:  62.57%\n",
      "The Prediction Accuracy of AdaBoost with DT:  91.23%\n"
     ]
    }
   ],
   "source": [
    "from sklearn.neighbors import KNeighborsClassifier\n",
    "from sklearn.svm import SVC\n",
    "from sklearn.tree import DecisionTreeClassifier\n",
    "\n",
    "from sklearn.ensemble import AdaBoostClassifier\n",
    "\n",
    "features = [\"radius_mean\",\"perimeter_mean\",\"area_mean\",\"compactness_mean\",\"concavity_mean\", \"concave points_mean\"]\n",
    "\n",
    "train_data = wdbc_df[features]\n",
    "test_data = wdbc_df['diagnosis']\n",
    "\n",
    "x_train, x_test, y_train, y_test = train_test_split(train_data,\n",
    "                                 test_data,\n",
    "                                 random_state=np.random,\n",
    "                                train_size=0.7)\n",
    "\n",
    "models = {\"SVM\":SVC(),\"DT\":DecisionTreeClassifier()}\n",
    "\n",
    "print(f\"AdaBoost with KNN: NOT SUPPORTED\")\n",
    "for name, model in models.items():\n",
    "    adaboost = AdaBoostClassifier(base_estimator=model, \n",
    "                            n_estimators=500,\n",
    "                            random_state=42,\n",
    "                            algorithm='SAMME')\n",
    "    adaboost.fit(x_train,y_train)\n",
    "\n",
    "    y_pred = adaboost.predict(x_test)\n",
    "\n",
    "    print(f\"The Prediction Accuracy of AdaBoost with {name}:  %.2f%%\" %(accuracy_score(y_test, y_pred)*100))"
   ]
  },
  {
   "cell_type": "code",
   "execution_count": 763,
   "id": "d15d2340-8675-4c92-972f-d1e7481a187b",
   "metadata": {},
   "outputs": [
    {
     "name": "stdout",
     "output_type": "stream",
     "text": [
      "The Prediction Accuracy of GradientBoosting with DT:  90.06%\n"
     ]
    }
   ],
   "source": [
    "from sklearn.ensemble import GradientBoostingClassifier\n",
    "\n",
    "features = [\"radius_mean\",\"perimeter_mean\",\"area_mean\",\"compactness_mean\",\"concavity_mean\", \"concave points_mean\"]\n",
    "\n",
    "train_data = wdbc_df[features]\n",
    "test_data = wdbc_df['diagnosis']\n",
    "\n",
    "x_train, x_test, y_train, y_test = train_test_split(train_data,\n",
    "                                 test_data,\n",
    "                                 random_state=np.random,\n",
    "                                train_size=0.7)\n",
    "\n",
    "GBC = GradientBoostingClassifier(n_estimators=500,\n",
    "                                random_state=42)\n",
    "GBC.fit(x_train,y_train)\n",
    "\n",
    "y_pred = GBC.predict(x_test)\n",
    "\n",
    "print(f\"The Prediction Accuracy of GradientBoosting with {name}:  %.2f%%\"%(accuracy_score(y_test, y_pred)*100))"
   ]
  },
  {
   "cell_type": "code",
   "execution_count": 753,
   "id": "741a7b95-cfa8-4b8c-91f8-377db2600ec0",
   "metadata": {},
   "outputs": [
    {
     "name": "stdout",
     "output_type": "stream",
     "text": [
      "The Optimal Parameters using 5 fold cross_validtion:\n",
      "The Best Score: 91.96%\n",
      "The Best params of DT : {'loss': 'deviance', 'n_estimators': 250, 'subsample': 0.64}\n",
      "The Prediction Accuracy of GradientBoosting with DT using the best params:  94.74%\n"
     ]
    }
   ],
   "source": [
    "from sklearn.ensemble import GradientBoostingClassifier\n",
    "from sklearn.model_selection import GridSearchCV\n",
    "\n",
    "features = [\"radius_mean\",\"perimeter_mean\",\"area_mean\",\"compactness_mean\",\"concavity_mean\", \"concave points_mean\"]\n",
    "\n",
    "train_data = wdbc_df[features]\n",
    "test_data = wdbc_df['diagnosis']\n",
    "\n",
    "x_train, x_test, y_train, y_test = train_test_split(train_data,\n",
    "                                 test_data,\n",
    "                                 random_state=np.random,\n",
    "                                train_size=0.7)\n",
    "\n",
    "params = {'loss': ['deviance', 'exponential'],\n",
    "         'subsample': [0.23, 0.45, 0.64, 0.72, 0.8, 0.95, 1.0],\n",
    "         \"n_estimators\": [50, 100, 250, 500]}\n",
    "\n",
    "GBC = GradientBoostingClassifier()\n",
    "\n",
    "grid = GridSearchCV(GBC, param_grid=params, cv=5)\n",
    "\n",
    "grid.fit(x_train,y_train)\n",
    "\n",
    "y_pred = grid.predict(x_test)\n",
    "\n",
    "print(\"The Optimal Parameters using 5 fold cross_validtion:\")\n",
    "print(\"The Best Score: %.2f%%\"%(grid.best_score_ * 100))\n",
    "print(\"The Best params of DT :\", grid.best_params_)\n",
    "print(f\"The Prediction Accuracy of GradientBoosting with {name} using the best params:  %.2f%%\"%(accuracy_score(y_test, y_pred)*100))"
   ]
  },
  {
   "cell_type": "code",
   "execution_count": 816,
   "id": "34fee778-c05b-4890-a379-f7dc8c788ad3",
   "metadata": {},
   "outputs": [
    {
     "name": "stdout",
     "output_type": "stream",
     "text": [
      "The Prediction Accuracy of XGBoost with DT:  90.64%\n"
     ]
    }
   ],
   "source": [
    "from xgboost import XGBClassifier\n",
    "\n",
    "features = [\"radius_mean\",\"perimeter_mean\",\"area_mean\",\"compactness_mean\",\"concavity_mean\", \"concave points_mean\"]\n",
    "\n",
    "train_data = wdbc_df[features]\n",
    "test_data = wdbc_df['diagnosis']\n",
    "\n",
    "x_train, x_test, y_train, y_test = train_test_split(train_data,\n",
    "                                 test_data,\n",
    "                                 random_state=np.random,\n",
    "                                train_size=0.7)\n",
    "\n",
    "XGBoost = XGBClassifier(random_state = 42)\n",
    "\n",
    "XGBoost.fit(x_train,y_train)\n",
    "\n",
    "y_pred = XGBoost.predict(x_test)\n",
    "\n",
    "print(f\"The Prediction Accuracy of XGBoost with {name}:  %.2f%%\"%(accuracy_score(y_test, y_pred)*100))"
   ]
  },
  {
   "cell_type": "code",
   "execution_count": 799,
   "id": "cac3e602-2beb-4715-846d-3046573b2f64",
   "metadata": {},
   "outputs": [
    {
     "name": "stdout",
     "output_type": "stream",
     "text": [
      "The Optimal Parameters using 5 fold cross_validtion:\n",
      "The Best Score: 92.21%\n",
      "The Best params of DT : {'learning_rate': 0.05, 'n_estimators': 1000, 'random_state': 500, 'subsample': 0.45}\n",
      "The Prediction Accuracy of XGBoost with DT using the best params:  91.81%\n"
     ]
    }
   ],
   "source": [
    "from xgboost import XGBClassifier\n",
    "from sklearn.model_selection import GridSearchCV\n",
    "\n",
    "features = [\"radius_mean\",\"perimeter_mean\",\"area_mean\",\"compactness_mean\",\"concavity_mean\", \"concave points_mean\"]\n",
    "\n",
    "train_data = wdbc_df[features]\n",
    "test_data = wdbc_df['diagnosis']\n",
    "\n",
    "x_train, x_test, y_train, y_test = train_test_split(train_data,\n",
    "                                 test_data,\n",
    "                                 random_state=np.random,\n",
    "                                train_size=0.7)\n",
    "\n",
    "params = {'subsample': [0.23, 0.45, 0.64, 0.72, 0.8, 0.95, 1.0],\n",
    "         \"n_estimators\": [50, 250, 500, 1000],\n",
    "         \"random_state\": [50, 500, 1000],\n",
    "         'learning_rate': [0.05]}\n",
    "\n",
    "XGBoost = XGBClassifier()\n",
    "\n",
    "grid = GridSearchCV(XGBoost, param_grid=params, cv=5)\n",
    "\n",
    "grid.fit(x_train,y_train)\n",
    "\n",
    "y_pred = grid.predict(x_test)\n",
    "\n",
    "print(\"The Optimal Parameters using 5 fold cross_validtion:\")\n",
    "print(\"The Best Score: %.2f%%\"%(grid.best_score_ * 100))\n",
    "print(\"The Best params of DT :\", grid.best_params_)\n",
    "print(f\"The Prediction Accuracy of XGBoost with {name} using the best params:  %.2f%%\"%(accuracy_score(y_test, y_pred)*100))"
   ]
  },
  {
   "cell_type": "code",
   "execution_count": null,
   "id": "fa016418-75ee-40c7-9609-77810e2c2f5f",
   "metadata": {},
   "outputs": [],
   "source": []
  }
 ],
 "metadata": {
  "kernelspec": {
   "display_name": "Python 3",
   "language": "python",
   "name": "python3"
  },
  "language_info": {
   "codemirror_mode": {
    "name": "ipython",
    "version": 3
   },
   "file_extension": ".py",
   "mimetype": "text/x-python",
   "name": "python",
   "nbconvert_exporter": "python",
   "pygments_lexer": "ipython3",
   "version": "3.8.8"
  }
 },
 "nbformat": 4,
 "nbformat_minor": 5
}
